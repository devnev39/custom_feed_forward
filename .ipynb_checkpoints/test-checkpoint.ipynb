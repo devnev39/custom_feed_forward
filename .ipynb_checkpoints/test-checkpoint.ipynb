{
 "cells": [
  {
   "cell_type": "code",
   "execution_count": 1,
   "metadata": {},
   "outputs": [],
   "source": [
    "%load_ext autoreload"
   ]
  },
  {
   "cell_type": "code",
   "execution_count": 2,
   "metadata": {},
   "outputs": [],
   "source": [
    "%autoreload 2"
   ]
  },
  {
   "cell_type": "code",
   "execution_count": 3,
   "metadata": {},
   "outputs": [
    {
     "name": "stdout",
     "output_type": "stream",
     "text": [
      "Init Plugin\n",
      "Init Graph Optimizer\n",
      "Init Kernel\n"
     ]
    }
   ],
   "source": [
    "import matplotlib.pyplot as plt\n",
    "from sklearn.model_selection import train_test_split\n",
    "from sklearn.utils import shuffle\n",
    "from tensorflow.keras.datasets import mnist\n",
    "from sklearn.datasets import make_moons"
   ]
  },
  {
   "cell_type": "code",
   "execution_count": 4,
   "metadata": {},
   "outputs": [],
   "source": [
    "import numpy as np\n",
    "import model\n",
    "import layers"
   ]
  },
  {
   "cell_type": "code",
   "execution_count": null,
   "metadata": {},
   "outputs": [],
   "source": [
    "def createSpiral(N):\n",
    "    N = int(N/2)\n",
    "    theta = np.sqrt(np.random.rand(N))*2*np.pi # np.linspace(0,2*pi,100)\n",
    "\n",
    "    r_a = 2*theta + np.pi\n",
    "    data_a = np.array([np.cos(theta)*r_a, np.sin(theta)*r_a]).T\n",
    "    x_a = data_a + np.random.randn(N,2)\n",
    "    y_a = np.zeros((N,))\n",
    "\n",
    "    r_b = -2*theta - np.pi\n",
    "    data_b = np.array([np.cos(theta)*r_b, np.sin(theta)*r_b]).T\n",
    "    x_b = data_b + np.random.randn(N,2)\n",
    "    y_b = np.ones((N,))\n",
    "    \n",
    "    X = np.concatenate((x_a,x_b),axis=0)\n",
    "    y = np.concatenate((y_a,y_b),axis=0)\n",
    "    \n",
    "    X,y = shuffle(X,y)\n",
    "    return X,y"
   ]
  },
  {
   "cell_type": "code",
   "execution_count": null,
   "metadata": {},
   "outputs": [],
   "source": [
    "def vectorize(y):\n",
    "    out = np.zeros((len(y),10))\n",
    "    for i,each in enumerate(y):\n",
    "        out[i][each] = 1\n",
    "    \n",
    "    return out"
   ]
  },
  {
   "cell_type": "code",
   "execution_count": 5,
   "metadata": {},
   "outputs": [],
   "source": [
    "(x_train,y_train),(x_test,y_test) = mnist.load_data()\n",
    "x_train = x_train.reshape(-1,784).astype('float32') / 255.0\n",
    "x_test = x_test.reshape(-1,784).astype('float32') / 255.0\n"
   ]
  },
  {
   "cell_type": "code",
   "execution_count": null,
   "metadata": {},
   "outputs": [],
   "source": [
    "y_train = vectorize(y_train)\n",
    "y_test = vectorize(y_test)"
   ]
  },
  {
   "cell_type": "code",
   "execution_count": null,
   "metadata": {},
   "outputs": [],
   "source": [
    "Xa,ya = make_moons(n_samples=1000,noise=0.1)"
   ]
  },
  {
   "cell_type": "code",
   "execution_count": null,
   "metadata": {},
   "outputs": [],
   "source": [
    "plt.scatter(Xa[:,0],Xa[:,1])"
   ]
  },
  {
   "cell_type": "code",
   "execution_count": null,
   "metadata": {},
   "outputs": [],
   "source": [
    "X_train, X_test, y_train, y_test = train_test_split(Xa, ya, test_size=0.33, random_state=42)"
   ]
  },
  {
   "cell_type": "code",
   "execution_count": 6,
   "metadata": {},
   "outputs": [],
   "source": [
    "y_train = y_train.reshape(-1,1)\n",
    "y_test = y_test.reshape(-1,1)"
   ]
  },
  {
   "cell_type": "code",
   "execution_count": null,
   "metadata": {},
   "outputs": [],
   "source": [
    "y_train.shape"
   ]
  },
  {
   "cell_type": "code",
   "execution_count": 62,
   "metadata": {},
   "outputs": [],
   "source": [
    "mdl = model.model([\n",
    "    layers.dense(256,activation='sig',input_shape=784),\n",
    "    layers.dense(128,activation='sig'),\n",
    "    layers.dense(64,activation='sig'),\n",
    "    layers.dense(10,activation='softmax')\n",
    "],loss='mse')"
   ]
  },
  {
   "cell_type": "code",
   "execution_count": 63,
   "metadata": {},
   "outputs": [
    {
     "name": "stdout",
     "output_type": "stream",
     "text": [
      "Epoch : 0 , loss : 0.10238886733583309 , val_acc : 0.2014\n",
      "Epoch : 1 , loss : 0.0863079461596809 , val_acc : 0.3169\n",
      "Epoch : 2 , loss : 0.0776605454432632 , val_acc : 0.4133\n",
      "Epoch : 3 , loss : 0.07027681387079207 , val_acc : 0.4874\n",
      "Epoch : 4 , loss : 0.06421555002228505 , val_acc : 0.5346\n",
      "Epoch : 5 , loss : 0.05921672862460055 , val_acc : 0.5765\n",
      "Epoch : 6 , loss : 0.0549166636894212 , val_acc : 0.608\n",
      "Epoch : 7 , loss : 0.051169705389609084 , val_acc : 0.6373\n",
      "Epoch : 8 , loss : 0.04795973101732294 , val_acc : 0.6644\n",
      "Epoch : 9 , loss : 0.04526164916903843 , val_acc : 0.6875\n"
     ]
    }
   ],
   "source": [
    "loss = mdl.fit(x_train,y_train,lr=0.03,val_data=(x_test,y_test))"
   ]
  },
  {
   "cell_type": "code",
   "execution_count": 64,
   "metadata": {},
   "outputs": [
    {
     "data": {
      "text/plain": [
       "[<matplotlib.lines.Line2D at 0x16492a1f0>]"
      ]
     },
     "execution_count": 64,
     "metadata": {},
     "output_type": "execute_result"
    },
    {
     "data": {
      "image/png": "[encoded data removed]",
      "text/plain": [
       "<Figure size 432x288 with 1 Axes>"
      ]
     },
     "metadata": {
      "needs_background": "light"
     },
     "output_type": "display_data"
    }
   ],
   "source": [
    "plt.plot(loss)"
   ]
  },
  {
   "cell_type": "code",
   "execution_count": 65,
   "metadata": {},
   "outputs": [
    {
     "data": {
      "text/plain": [
       "0.6875"
      ]
     },
     "execution_count": 65,
     "metadata": {},
     "output_type": "execute_result"
    }
   ],
   "source": [
    "mdl.score(x_test,y_test)"
   ]
  },
  {
   "cell_type": "code",
   "execution_count": 66,
   "metadata": {},
   "outputs": [
    {
     "data": {
      "text/plain": [
       "array([[0., 0., 0., 0., 0., 0., 0., 1., 0., 0.],\n",
       "       [0., 0., 1., 0., 0., 0., 0., 0., 0., 0.],\n",
       "       [0., 1., 0., 0., 0., 0., 0., 0., 0., 0.],\n",
       "       [1., 0., 0., 0., 0., 0., 0., 0., 0., 0.],\n",
       "       [0., 0., 0., 0., 1., 0., 0., 0., 0., 0.],\n",
       "       [0., 1., 0., 0., 0., 0., 0., 0., 0., 0.],\n",
       "       [0., 0., 0., 0., 0., 0., 0., 0., 0., 1.],\n",
       "       [0., 0., 0., 0., 0., 0., 0., 0., 0., 1.],\n",
       "       [0., 0., 0., 0., 0., 1., 0., 0., 0., 0.],\n",
       "       [0., 0., 0., 0., 0., 0., 0., 1., 0., 0.]])"
      ]
     },
     "execution_count": 66,
     "metadata": {},
     "output_type": "execute_result"
    }
   ],
   "source": [
    "mdl.predict(x_test[:10])"
   ]
  },
  {
   "cell_type": "code",
   "execution_count": 57,
   "metadata": {},
   "outputs": [
    {
     "data": {
      "text/plain": [
       "1.973136762779035"
      ]
     },
     "execution_count": 57,
     "metadata": {},
     "output_type": "execute_result"
    }
   ],
   "source": [
    "np.mean(-np.sum(mdl.y*np.log(mdl.get_lst()[-1].A),axis=1))"
   ]
  },
  {
   "cell_type": "code",
   "execution_count": 56,
   "metadata": {},
   "outputs": [
    {
     "data": {
      "text/plain": [
       "array([[5.13867284e-02, 4.86775353e-02, 1.38506871e-01, 1.19822978e-01,\n",
       "        9.29655492e-02, 1.40609270e-01, 9.58347508e-02, 6.68206333e-02,\n",
       "        1.57990213e-01, 8.73854719e-02],\n",
       "       [9.32863073e-02, 6.21081638e-02, 5.85957576e-02, 3.58460332e-02,\n",
       "        1.49544738e-01, 7.97220747e-02, 9.55440899e-04, 3.74696646e-01,\n",
       "        4.45158012e-02, 1.00729038e-01],\n",
       "       [2.12566670e-01, 2.25853793e-01, 5.04350285e-02, 1.15175186e-01,\n",
       "        2.02820945e-01, 1.14394606e-02, 4.56302091e-03, 6.66038526e-02,\n",
       "        4.60953356e-02, 6.44467070e-02],\n",
       "       [1.86923273e-01, 2.86632665e-02, 2.44134712e-02, 4.50651660e-02,\n",
       "        2.02918908e-01, 3.82030338e-02, 1.40768426e-01, 1.47044414e-01,\n",
       "        1.06980056e-01, 7.90199848e-02],\n",
       "       [9.88212266e-01, 1.32396413e-04, 7.76735449e-04, 8.27623404e-04,\n",
       "        2.49679168e-03, 2.85089948e-04, 5.92482812e-04, 1.68058385e-03,\n",
       "        1.14716232e-03, 3.84886788e-03],\n",
       "       [2.80689859e-02, 3.57345669e-02, 8.54065638e-02, 8.85810045e-02,\n",
       "        1.42032768e-01, 5.34212826e-02, 2.07252105e-01, 1.44215683e-01,\n",
       "        1.19245930e-01, 9.60411102e-02],\n",
       "       [4.96075156e-02, 4.98548978e-02, 1.26808533e-01, 1.46765642e-01,\n",
       "        8.71250175e-02, 1.27626344e-01, 7.67287089e-02, 5.77560543e-02,\n",
       "        1.59220497e-01, 1.18506791e-01],\n",
       "       [2.80454183e-02, 3.57818289e-02, 8.54421273e-02, 8.85047237e-02,\n",
       "        1.41913982e-01, 5.34299612e-02, 2.07736102e-01, 1.43821295e-01,\n",
       "        1.19306109e-01, 9.60184520e-02],\n",
       "       [6.53680263e-02, 2.00495301e-02, 4.08651681e-02, 6.52331945e-02,\n",
       "        4.34141410e-02, 1.06134486e-02, 5.16006967e-01, 1.01771521e-01,\n",
       "        2.83246063e-02, 1.08353398e-01],\n",
       "       [3.13336811e-02, 3.98827128e-02, 1.35081457e-01, 1.50870200e-01,\n",
       "        6.50676977e-02, 1.33364498e-01, 1.05683228e-01, 9.62272538e-02,\n",
       "        8.19097185e-02, 1.60579554e-01],\n",
       "       [5.42001344e-02, 4.79608955e-02, 1.24647665e-01, 1.52604674e-01,\n",
       "        8.92594542e-02, 1.34345912e-01, 5.64818738e-02, 6.72417515e-02,\n",
       "        1.52931904e-01, 1.20325737e-01],\n",
       "       [4.91959911e-02, 5.64744389e-02, 1.29011409e-01, 1.32279997e-01,\n",
       "        9.11916889e-02, 1.23194251e-01, 8.19448716e-02, 5.63594094e-02,\n",
       "        1.59782611e-01, 1.20565332e-01],\n",
       "       [2.47334281e-01, 9.06151168e-03, 2.54028362e-02, 5.84424916e-01,\n",
       "        1.47361197e-02, 1.20155617e-02, 3.95048058e-02, 2.21637449e-02,\n",
       "        3.73926538e-02, 7.96356986e-03],\n",
       "       [5.93152270e-02, 2.29090034e-02, 4.82366270e-02, 7.21683448e-02,\n",
       "        5.49814423e-02, 1.44927423e-02, 4.67024847e-01, 1.12374561e-01,\n",
       "        3.75755481e-02, 1.10921658e-01],\n",
       "       [1.50766581e-01, 1.60798033e-02, 2.54028300e-02, 5.02833665e-02,\n",
       "        4.58374781e-02, 8.45546941e-03, 4.75485715e-01, 9.92489340e-02,\n",
       "        2.52214168e-02, 1.03218406e-01],\n",
       "       [5.91967153e-01, 1.96609699e-02, 3.16375145e-02, 2.97350200e-02,\n",
       "        3.21418162e-02, 1.38971822e-02, 1.35537304e-03, 1.41328350e-01,\n",
       "        1.01686477e-02, 1.28107973e-01],\n",
       "       [2.33875605e-03, 4.49538369e-01, 3.08016629e-01, 1.28681109e-01,\n",
       "        2.58093307e-02, 5.65820757e-03, 2.13460040e-03, 2.14814661e-02,\n",
       "        5.12993189e-02, 5.04221244e-03],\n",
       "       [3.12262947e-02, 5.02192693e-02, 8.71714197e-02, 6.63602190e-02,\n",
       "        1.69921129e-01, 5.10929978e-02, 1.61956851e-01, 1.65567126e-01,\n",
       "        1.12867313e-01, 1.03617380e-01],\n",
       "       [4.71765379e-02, 5.04847536e-02, 1.27079659e-01, 1.43254242e-01,\n",
       "        8.65693333e-02, 1.23227432e-01, 8.91614085e-02, 5.44477660e-02,\n",
       "        1.61306920e-01, 1.17291947e-01],\n",
       "       [9.22100603e-01, 3.73739884e-03, 1.56787436e-03, 1.54217069e-03,\n",
       "        2.05646101e-02, 1.90757197e-03, 3.35470097e-04, 3.20230428e-02,\n",
       "        3.13662086e-03, 1.30846373e-02],\n",
       "       [4.90338439e-02, 1.53630773e-02, 4.74652128e-02, 8.87228358e-02,\n",
       "        1.21328590e-01, 6.17887490e-02, 4.96083161e-03, 4.84929309e-01,\n",
       "        5.16881619e-02, 7.47193887e-02],\n",
       "       [1.77317382e-02, 1.14560298e-01, 7.71067894e-03, 1.20130902e-01,\n",
       "        1.88311467e-01, 5.13352045e-02, 2.28571769e-02, 3.67415571e-02,\n",
       "        3.80703359e-01, 5.99176179e-02],\n",
       "       [9.39285050e-02, 2.46561220e-02, 8.02463785e-02, 1.63436694e-01,\n",
       "        8.33864613e-02, 1.62943762e-01, 2.39546554e-03, 2.05964366e-01,\n",
       "        7.93937362e-02, 1.03648509e-01],\n",
       "       [1.47809635e-04, 9.27420220e-01, 1.88013496e-02, 7.28516913e-03,\n",
       "        2.99418758e-04, 2.99586266e-03, 1.31760363e-02, 2.26515708e-02,\n",
       "        6.17377852e-04, 6.60518541e-03],\n",
       "       [9.39025427e-02, 2.46535199e-02, 8.02914679e-02, 1.63373769e-01,\n",
       "        8.34114406e-02, 1.62882514e-01, 2.39344896e-03, 2.06054452e-01,\n",
       "        7.94531150e-02, 1.03583730e-01],\n",
       "       [4.70878163e-02, 5.09033949e-02, 1.28556952e-01, 1.43178604e-01,\n",
       "        8.56528585e-02, 1.24285052e-01, 8.93477444e-02, 5.43310619e-02,\n",
       "        1.61473685e-01, 1.15182831e-01],\n",
       "       [1.18232181e-03, 6.50863420e-01, 2.39303424e-01, 3.50463637e-03,\n",
       "        2.56282363e-03, 6.46136862e-03, 1.07525447e-02, 2.35266768e-02,\n",
       "        6.15253184e-02, 3.17465643e-04],\n",
       "       [5.61417381e-02, 8.54917945e-02, 1.31436579e-01, 9.39724591e-02,\n",
       "        1.13131713e-01, 1.14892614e-01, 5.93453458e-02, 6.62456313e-02,\n",
       "        1.47871435e-01, 1.31470689e-01],\n",
       "       [2.08316199e-01, 4.22471818e-02, 4.90347692e-02, 8.69289167e-02,\n",
       "        1.19176881e-01, 1.00036857e-01, 7.49738361e-02, 5.91689560e-02,\n",
       "        1.55468559e-01, 1.04647845e-01],\n",
       "       [6.13103645e-02, 2.38071160e-01, 1.88900416e-01, 4.03088830e-02,\n",
       "        3.50370699e-02, 1.25567939e-01, 3.27918393e-02, 1.06705104e-01,\n",
       "        1.13306098e-01, 5.80011260e-02],\n",
       "       [4.73150764e-02, 5.04924797e-02, 1.27141864e-01, 1.43336487e-01,\n",
       "        8.63685404e-02, 1.23133626e-01, 8.92286416e-02, 5.44006025e-02,\n",
       "        1.61127278e-01, 1.17455404e-01],\n",
       "       [5.59922898e-01, 4.39120586e-03, 8.18947091e-03, 6.26479068e-02,\n",
       "        3.14965169e-02, 3.05785545e-02, 7.75399441e-02, 1.84028501e-01,\n",
       "        5.17540350e-03, 3.60295984e-02]])"
      ]
     },
     "execution_count": 56,
     "metadata": {},
     "output_type": "execute_result"
    }
   ],
   "source": [
    "mdl.get_lst()[-1].A"
   ]
  },
  {
   "cell_type": "code",
   "execution_count": null,
   "metadata": {},
   "outputs": [],
   "source": [
    "x = x_train\n",
    "a1 = mdl.lst[0].process(x)\n",
    "a2 = mdl.lst[1].process(a1)\n",
    "a3 = mdl.lst[2].process(a2)"
   ]
  },
  {
   "cell_type": "code",
   "execution_count": null,
   "metadata": {},
   "outputs": [],
   "source": []
  },
  {
   "cell_type": "code",
   "execution_count": null,
   "metadata": {},
   "outputs": [],
   "source": [
    "a3_ = np.exp(a3_) / np.sum(np.exp(a3_),axis=1).reshape(-1,1)"
   ]
  },
  {
   "cell_type": "code",
   "execution_count": null,
   "metadata": {},
   "outputs": [],
   "source": []
  },
  {
   "cell_type": "code",
   "execution_count": null,
   "metadata": {},
   "outputs": [],
   "source": [
    "mdl.X = x_train\n",
    "mdl.y = y_train\n",
    "mdl.lr = 0.01\n",
    "mdl.set_y()"
   ]
  },
  {
   "cell_type": "code",
   "execution_count": null,
   "metadata": {},
   "outputs": [],
   "source": [
    "mdl.gradient_descent()"
   ]
  },
  {
   "cell_type": "code",
   "execution_count": null,
   "metadata": {},
   "outputs": [],
   "source": [
    "mdl.forward_pass()"
   ]
  },
  {
   "cell_type": "code",
   "execution_count": null,
   "metadata": {},
   "outputs": [],
   "source": [
    "def make_grid(X,model):\n",
    "    xmn, xmx = X[:, 0].min() - 1, X[:, 0].max() + 1\n",
    "    ymn, ymx = X[:, 1].min() - 1, X[:, 1].max() + 1\n",
    "    xx,yy = np.meshgrid(np.arange(xmn,xmx,0.1),np.arange(ymn,ymx,0.1))\n",
    "    XX_grid = np.c_[xx.ravel(),yy.ravel()]\n",
    "    grid_preds = model.predict(XX_grid)\n",
    "    grid_preds = grid_preds.reshape(xx.shape)\n",
    "    return xx,yy,grid_preds\n"
   ]
  },
  {
   "cell_type": "code",
   "execution_count": null,
   "metadata": {},
   "outputs": [],
   "source": [
    "xx,yy,grid_preds = make_grid(Xa,mdl)"
   ]
  },
  {
   "cell_type": "code",
   "execution_count": null,
   "metadata": {},
   "outputs": [],
   "source": [
    "plt.contourf(xx,yy,grid_preds)\n",
    "plt.scatter(X_train[:,0],X_train[:,1],c=y_train)"
   ]
  },
  {
   "cell_type": "code",
   "execution_count": null,
   "metadata": {},
   "outputs": [],
   "source": [
    "(mdl.lst[1].A * np.mean(mdl.lst[1].W,axis=1).reshape(1,-1)).shape"
   ]
  },
  {
   "cell_type": "code",
   "execution_count": null,
   "metadata": {},
   "outputs": [],
   "source": [
    "np.mean(mdl.lst[1].W,axis=1).reshape(1,-1).shape"
   ]
  },
  {
   "cell_type": "code",
   "execution_count": null,
   "metadata": {},
   "outputs": [],
   "source": []
  }
 ],
 "metadata": {
  "interpreter": {
   "hash": "b2c55742aad1baa15094dc4b609e6470933883a8074034029ff62f5d461ab92c"
  },
  "kernelspec": {
   "display_name": "Python 3 (ipykernel)",
   "language": "python",
   "name": "python3"
  },
  "language_info": {
   "codemirror_mode": {
    "name": "ipython",
    "version": 3
   },
   "file_extension": ".py",
   "mimetype": "text/x-python",
   "name": "python",
   "nbconvert_exporter": "python",
   "pygments_lexer": "ipython3",
   "version": "3.9.5"
  }
 },
 "nbformat": 4,
 "nbformat_minor": 4
}

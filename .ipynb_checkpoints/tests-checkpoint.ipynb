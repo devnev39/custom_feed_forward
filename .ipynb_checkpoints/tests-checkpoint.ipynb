{
 "cells": [
  {
   "cell_type": "code",
   "execution_count": 1,
   "id": "6190e2bc-4dc6-4465-aa56-157159a7e766",
   "metadata": {},
   "outputs": [
    {
     "name": "stdout",
     "output_type": "stream",
     "text": [
      "Init Plugin\n",
      "Init Graph Optimizer\n",
      "Init Kernel\n"
     ]
    }
   ],
   "source": [
    "import numpy as np\n",
    "from tensorflow.keras.datasets import mnist"
   ]
  },
  {
   "cell_type": "code",
   "execution_count": 2,
   "id": "8a974a02-723f-4e15-8265-33c92abbb656",
   "metadata": {},
   "outputs": [],
   "source": [
    "(x_train,y_train),(x_test,y_test) = mnist.load_data()"
   ]
  },
  {
   "cell_type": "code",
   "execution_count": 37,
   "id": "b69adbf9-c81a-4392-8383-ce069cb1a451",
   "metadata": {},
   "outputs": [],
   "source": [
    "y_pred = np.random.rand(10000,10)"
   ]
  },
  {
   "cell_type": "code",
   "execution_count": 38,
   "id": "c084f3ce-b515-4318-a69b-01822711e9c3",
   "metadata": {},
   "outputs": [
    {
     "data": {
      "text/plain": [
       "array([[0.21676298, 0.32342606, 0.2972524 , 0.59919441, 0.08970639,\n",
       "        0.44674624, 0.30817471, 0.050962  , 0.53559788, 0.86518725],\n",
       "       [0.52681807, 0.9656489 , 0.62771547, 0.97100865, 0.14696036,\n",
       "        0.84655987, 0.5176183 , 0.66575828, 0.58296891, 0.41805765],\n",
       "       [0.65482342, 0.66673216, 0.96512161, 0.93726303, 0.41163144,\n",
       "        0.40778453, 0.35645422, 0.91061057, 0.33011565, 0.88075494],\n",
       "       [0.30506864, 0.64263024, 0.51827667, 0.00474384, 0.66762597,\n",
       "        0.99287104, 0.87330466, 0.57576959, 0.46379169, 0.42581242],\n",
       "       [0.80068663, 0.68871073, 0.72599505, 0.83577515, 0.29153666,\n",
       "        0.621715  , 0.15700716, 0.14005379, 0.79049517, 0.5085337 ]])"
      ]
     },
     "execution_count": 38,
     "metadata": {},
     "output_type": "execute_result"
    }
   ],
   "source": [
    "y_pred[:5]"
   ]
  },
  {
   "cell_type": "code",
   "execution_count": 41,
   "id": "e739374b-bc2b-47e2-9fc6-f633a92429f0",
   "metadata": {},
   "outputs": [],
   "source": [
    "a = np.take(y_pred,y_test)[...,np.newaxis]"
   ]
  },
  {
   "cell_type": "code",
   "execution_count": 42,
   "id": "2595e1a1-710c-4a5f-8989-41f6905cd0aa",
   "metadata": {},
   "outputs": [],
   "source": [
    "a = np.log(a)"
   ]
  },
  {
   "cell_type": "code",
   "execution_count": 57,
   "id": "e58b145b-8bdc-425b-ad04-860046f90175",
   "metadata": {},
   "outputs": [],
   "source": [
    "args = np.argmax(y_pred,axis=1)"
   ]
  },
  {
   "cell_type": "code",
   "execution_count": 56,
   "id": "afc12432-c29f-4360-82e9-2e3d9f93ac3f",
   "metadata": {},
   "outputs": [],
   "source": [
    "a = np.zeros(shape=(10000,10))"
   ]
  },
  {
   "cell_type": "code",
   "execution_count": 58,
   "id": "0219a61f-0054-45b3-a0c6-5c0edf5ce873",
   "metadata": {},
   "outputs": [
    {
     "data": {
      "text/plain": [
       "\u001b[0;31mCall signature:\u001b[0m  \u001b[0mnp\u001b[0m\u001b[0;34m.\u001b[0m\u001b[0mequal\u001b[0m\u001b[0;34m(\u001b[0m\u001b[0;34m*\u001b[0m\u001b[0margs\u001b[0m\u001b[0;34m,\u001b[0m \u001b[0;34m**\u001b[0m\u001b[0mkwargs\u001b[0m\u001b[0;34m)\u001b[0m\u001b[0;34m\u001b[0m\u001b[0;34m\u001b[0m\u001b[0m\n",
       "\u001b[0;31mType:\u001b[0m            ufunc\n",
       "\u001b[0;31mString form:\u001b[0m     <ufunc 'equal'>\n",
       "\u001b[0;31mFile:\u001b[0m            ~/miniforge3/envs/tf_env/lib/python3.9/site-packages/numpy/__init__.py\n",
       "\u001b[0;31mDocstring:\u001b[0m      \n",
       "equal(x1, x2, /, out=None, *, where=True, casting='same_kind', order='K', dtype=None, subok=True[, signature, extobj])\n",
       "\n",
       "Return (x1 == x2) element-wise.\n",
       "\n",
       "Parameters\n",
       "----------\n",
       "x1, x2 : array_like\n",
       "    Input arrays.\n",
       "    If ``x1.shape != x2.shape``, they must be broadcastable to a common\n",
       "    shape (which becomes the shape of the output).\n",
       "out : ndarray, None, or tuple of ndarray and None, optional\n",
       "    A location into which the result is stored. If provided, it must have\n",
       "    a shape that the inputs broadcast to. If not provided or None,\n",
       "    a freshly-allocated array is returned. A tuple (possible only as a\n",
       "    keyword argument) must have length equal to the number of outputs.\n",
       "where : array_like, optional\n",
       "    This condition is broadcast over the input. At locations where the\n",
       "    condition is True, the `out` array will be set to the ufunc result.\n",
       "    Elsewhere, the `out` array will retain its original value.\n",
       "    Note that if an uninitialized `out` array is created via the default\n",
       "    ``out=None``, locations within it where the condition is False will\n",
       "    remain uninitialized.\n",
       "**kwargs\n",
       "    For other keyword-only arguments, see the\n",
       "    :ref:`ufunc docs <ufuncs.kwargs>`.\n",
       "\n",
       "Returns\n",
       "-------\n",
       "out : ndarray or scalar\n",
       "    Output array, element-wise comparison of `x1` and `x2`.\n",
       "    Typically of type bool, unless ``dtype=object`` is passed.\n",
       "    This is a scalar if both `x1` and `x2` are scalars.\n",
       "\n",
       "See Also\n",
       "--------\n",
       "not_equal, greater_equal, less_equal, greater, less\n",
       "\n",
       "Examples\n",
       "--------\n",
       ">>> np.equal([0, 1, 3], np.arange(3))\n",
       "array([ True,  True, False])\n",
       "\n",
       "What is compared are values, not types. So an int (1) and an array of\n",
       "length one can evaluate as True:\n",
       "\n",
       ">>> np.equal(1, np.ones(1))\n",
       "array([ True])\n",
       "\u001b[0;31mClass docstring:\u001b[0m\n",
       "Functions that operate element by element on whole arrays.\n",
       "\n",
       "To see the documentation for a specific ufunc, use `info`.  For\n",
       "example, ``np.info(np.sin)``.  Because ufuncs are written in C\n",
       "(for speed) and linked into Python with NumPy's ufunc facility,\n",
       "Python's help() function finds this page whenever help() is called\n",
       "on a ufunc.\n",
       "\n",
       "A detailed explanation of ufuncs can be found in the docs for :ref:`ufuncs`.\n",
       "\n",
       "Calling ufuncs:\n",
       "===============\n",
       "\n",
       "op(*x[, out], where=True, **kwargs)\n",
       "Apply `op` to the arguments `*x` elementwise, broadcasting the arguments.\n",
       "\n",
       "The broadcasting rules are:\n",
       "\n",
       "* Dimensions of length 1 may be prepended to either array.\n",
       "* Arrays may be repeated along dimensions of length 1.\n",
       "\n",
       "Parameters\n",
       "----------\n",
       "*x : array_like\n",
       "    Input arrays.\n",
       "out : ndarray, None, or tuple of ndarray and None, optional\n",
       "    Alternate array object(s) in which to put the result; if provided, it\n",
       "    must have a shape that the inputs broadcast to. A tuple of arrays\n",
       "    (possible only as a keyword argument) must have length equal to the\n",
       "    number of outputs; use None for uninitialized outputs to be\n",
       "    allocated by the ufunc.\n",
       "where : array_like, optional\n",
       "    This condition is broadcast over the input. At locations where the\n",
       "    condition is True, the `out` array will be set to the ufunc result.\n",
       "    Elsewhere, the `out` array will retain its original value.\n",
       "    Note that if an uninitialized `out` array is created via the default\n",
       "    ``out=None``, locations within it where the condition is False will\n",
       "    remain uninitialized.\n",
       "**kwargs\n",
       "    For other keyword-only arguments, see the :ref:`ufunc docs <ufuncs.kwargs>`.\n",
       "\n",
       "Returns\n",
       "-------\n",
       "r : ndarray or tuple of ndarray\n",
       "    `r` will have the shape that the arrays in `x` broadcast to; if `out` is\n",
       "    provided, it will be returned. If not, `r` will be allocated and\n",
       "    may contain uninitialized values. If the function has more than one\n",
       "    output, then the result will be a tuple of arrays.\n"
      ]
     },
     "metadata": {},
     "output_type": "display_data"
    }
   ],
   "source": []
  },
  {
   "cell_type": "code",
   "execution_count": 44,
   "id": "ecce2e8a-aada-4696-b9ef-2dc7c321cf26",
   "metadata": {},
   "outputs": [
    {
     "data": {
      "text/plain": [
       "array([[-2.67246686, -1.79051296, -1.1414776 , ..., -1.91197983,\n",
       "        -2.70383096, -1.59700826],\n",
       "       [-1.10640935, -0.50381172, -0.20888487, ..., -1.17271782,\n",
       "        -0.929185  , -0.63250791],\n",
       "       [-0.88806744, -0.04842444, -0.73874106, ..., -0.37004077,\n",
       "        -0.19117755, -0.39495348],\n",
       "       ...,\n",
       "       [-0.20093597, -1.47153606, -0.92624642, ..., -0.68821887,\n",
       "        -1.41659263, -1.37077911],\n",
       "       [-0.06630284, -0.03892083, -0.33299386, ..., -0.07016798,\n",
       "        -0.74853283, -0.17866624],\n",
       "       [-0.98947121, -0.75039632, -1.06784439, ..., -0.0615601 ,\n",
       "        -0.74338507, -0.837342  ]])"
      ]
     },
     "execution_count": 44,
     "metadata": {},
     "output_type": "execute_result"
    }
   ],
   "source": [
    "a * np.random.rand(10000,10)"
   ]
  },
  {
   "cell_type": "code",
   "execution_count": null,
   "id": "3b7ed23c-3fa7-4e15-853a-9fe9a666c2c3",
   "metadata": {},
   "outputs": [],
   "source": []
  }
 ],
 "metadata": {
  "kernelspec": {
   "display_name": "Python 3 (ipykernel)",
   "language": "python",
   "name": "python3"
  },
  "language_info": {
   "codemirror_mode": {
    "name": "ipython",
    "version": 3
   },
   "file_extension": ".py",
   "mimetype": "text/x-python",
   "name": "python",
   "nbconvert_exporter": "python",
   "pygments_lexer": "ipython3",
   "version": "3.9.5"
  }
 },
 "nbformat": 4,
 "nbformat_minor": 5
}

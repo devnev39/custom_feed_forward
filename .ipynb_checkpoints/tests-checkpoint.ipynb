{
 "cells": [
  {
   "cell_type": "code",
   "execution_count": 1,
   "id": "6190e2bc-4dc6-4465-aa56-157159a7e766",
   "metadata": {},
   "outputs": [],
   "source": [
    "%load_ext autoreload"
   ]
  },
  {
   "cell_type": "code",
   "execution_count": 2,
   "id": "e419075b-6178-4df1-a52c-e82520a8a319",
   "metadata": {},
   "outputs": [],
   "source": [
    "%autoreload 2"
   ]
  },
  {
   "cell_type": "code",
   "execution_count": 3,
   "id": "ef9b293b-b0e2-46bd-8f27-5d2e28a18fdc",
   "metadata": {},
   "outputs": [
    {
     "name": "stdout",
     "output_type": "stream",
     "text": [
      "Init Plugin\n",
      "Init Graph Optimizer\n",
      "Init Kernel\n"
     ]
    }
   ],
   "source": [
    "import numpy as np\n",
    "from tensorflow.keras.datasets import mnist"
   ]
  },
  {
   "cell_type": "code",
   "execution_count": 4,
   "id": "08330af6-6b17-48aa-a68b-edbc01e3a55d",
   "metadata": {},
   "outputs": [],
   "source": [
    "import model\n",
    "import layers"
   ]
  },
  {
   "cell_type": "code",
   "execution_count": 5,
   "id": "c2bca7e4-3974-486c-8e2c-6e1fa23a3201",
   "metadata": {},
   "outputs": [],
   "source": [
    "(x_train,y_train),(_,_) = mnist.load_data()\n",
    "x_train = x_train.reshape(-1,784).astype('float32') / 255.0\n",
    "y_train = y_train.reshape(-1,1)"
   ]
  },
  {
   "cell_type": "code",
   "execution_count": 60,
   "id": "dc77fc25-8713-4f0e-84fb-ba6769aaeac2",
   "metadata": {},
   "outputs": [],
   "source": [
    "mdl = model.model([\n",
    "    layers.dense(256,activation='relu',input_shape=784),\n",
    "    layers.dense(128,activation='relu'),\n",
    "    layers.dense(64,activation='relu'),\n",
    "    layers.dense(10,activation='softmax')\n",
    "])"
   ]
  },
  {
   "cell_type": "code",
   "execution_count": 54,
   "id": "0ba67faf-00da-4d9a-8d3b-647005542da2",
   "metadata": {},
   "outputs": [],
   "source": [
    "z = np.dot(x_train[0],mdl.get_lst()[0].W.T) + mdl.get_lst()[0].b"
   ]
  },
  {
   "cell_type": "code",
   "execution_count": 55,
   "id": "7a07414e-d585-4aa8-9b34-ffd6f002c67a",
   "metadata": {},
   "outputs": [],
   "source": [
    "z[z<0] = 0.0"
   ]
  },
  {
   "cell_type": "code",
   "execution_count": 61,
   "id": "2fa71397-f5aa-4b33-b5a3-d29ac0b29780",
   "metadata": {},
   "outputs": [
    {
     "data": {
      "text/plain": [
       "array([[0., 0., 0., 0., 0., 1., 1., 0., 0., 1., 1., 0., 0., 0., 0., 0.,\n",
       "        0., 1., 0., 1., 1., 1., 0., 1., 1., 0., 0., 1., 1., 1., 0., 1.,\n",
       "        0., 0., 1., 0., 0., 0., 0., 0., 0., 0., 1., 1., 0., 0., 1., 0.,\n",
       "        0., 0., 1., 0., 0., 0., 1., 0., 0., 1., 0., 1., 0., 0., 1., 0.,\n",
       "        1., 0., 0., 1., 1., 1., 1., 1., 1., 0., 1., 0., 0., 0., 1., 1.,\n",
       "        0., 0., 1., 1., 1., 1., 1., 1., 0., 0., 1., 1., 0., 0., 1., 1.,\n",
       "        1., 0., 0., 1., 1., 0., 0., 1., 1., 1., 1., 1., 0., 1., 0., 1.,\n",
       "        0., 0., 0., 1., 0., 0., 1., 1., 1., 1., 0., 1., 1., 0., 0., 0.,\n",
       "        0., 1., 0., 0., 0., 1., 1., 0., 1., 1., 1., 1., 0., 1., 0., 0.,\n",
       "        1., 1., 1., 1., 0., 0., 0., 1., 1., 0., 1., 1., 1., 0., 1., 0.,\n",
       "        0., 0., 1., 0., 0., 0., 0., 0., 1., 0., 1., 1., 1., 0., 0., 0.,\n",
       "        1., 1., 0., 1., 1., 1., 1., 0., 1., 0., 0., 1., 0., 0., 0., 1.,\n",
       "        0., 1., 1., 1., 1., 1., 1., 1., 0., 0., 0., 1., 0., 1., 1., 0.,\n",
       "        1., 0., 1., 0., 1., 0., 0., 0., 1., 0., 1., 1., 1., 0., 1., 1.,\n",
       "        1., 0., 0., 1., 0., 0., 0., 1., 0., 1., 1., 0., 1., 0., 1., 0.,\n",
       "        0., 1., 0., 0., 0., 1., 0., 1., 1., 0., 0., 0., 0., 0., 0., 0.]])"
      ]
     },
     "execution_count": 61,
     "metadata": {},
     "output_type": "execute_result"
    }
   ],
   "source": [
    "mdl.get_lst()[0].process(x_train[0])"
   ]
  },
  {
   "cell_type": "code",
   "execution_count": null,
   "id": "05dec9c1-2f1b-4b3c-abcd-b7c61a206822",
   "metadata": {},
   "outputs": [],
   "source": []
  }
 ],
 "metadata": {
  "kernelspec": {
   "display_name": "Python 3 (ipykernel)",
   "language": "python",
   "name": "python3"
  },
  "language_info": {
   "codemirror_mode": {
    "name": "ipython",
    "version": 3
   },
   "file_extension": ".py",
   "mimetype": "text/x-python",
   "name": "python",
   "nbconvert_exporter": "python",
   "pygments_lexer": "ipython3",
   "version": "3.9.5"
  }
 },
 "nbformat": 4,
 "nbformat_minor": 5
}

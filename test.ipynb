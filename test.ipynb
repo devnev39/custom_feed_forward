{
 "cells": [
  {
   "cell_type": "code",
   "execution_count": 1,
   "metadata": {},
   "outputs": [],
   "source": [
    "%load_ext autoreload"
   ]
  },
  {
   "cell_type": "code",
   "execution_count": 2,
   "metadata": {},
   "outputs": [],
   "source": [
    "%autoreload 2"
   ]
  },
  {
   "cell_type": "code",
   "execution_count": 110,
   "metadata": {},
   "outputs": [],
   "source": [
    "import matplotlib.pyplot as plt\n",
    "from sklearn.model_selection import train_test_split\n",
    "from sklearn.utils import shuffle\n",
    "from tensorflow.keras.datasets import mnist\n",
    "from sklearn.datasets import make_moons"
   ]
  },
  {
   "cell_type": "code",
   "execution_count": 4,
   "metadata": {},
   "outputs": [],
   "source": [
    "import numpy as np\n",
    "import model\n",
    "import layers"
   ]
  },
  {
   "cell_type": "code",
   "execution_count": 5,
   "metadata": {},
   "outputs": [],
   "source": [
    "def createSpiral(N):\n",
    "    N = int(N/2)\n",
    "    theta = np.sqrt(np.random.rand(N))*2*np.pi # np.linspace(0,2*pi,100)\n",
    "\n",
    "    r_a = 2*theta + np.pi\n",
    "    data_a = np.array([np.cos(theta)*r_a, np.sin(theta)*r_a]).T\n",
    "    x_a = data_a + np.random.randn(N,2)\n",
    "    y_a = np.zeros((N,))\n",
    "\n",
    "    r_b = -2*theta - np.pi\n",
    "    data_b = np.array([np.cos(theta)*r_b, np.sin(theta)*r_b]).T\n",
    "    x_b = data_b + np.random.randn(N,2)\n",
    "    y_b = np.ones((N,))\n",
    "    \n",
    "    X = np.concatenate((x_a,x_b),axis=0)\n",
    "    y = np.concatenate((y_a,y_b),axis=0)\n",
    "    \n",
    "    X,y = shuffle(X,y)\n",
    "    return X,y"
   ]
  },
  {
   "cell_type": "code",
   "execution_count": 6,
   "metadata": {},
   "outputs": [],
   "source": [
    "def vectorize(y):\n",
    "    out = np.zeros((len(y),10))\n",
    "    for i,each in enumerate(y):\n",
    "        out[i][each] = 1\n",
    "    \n",
    "    return out"
   ]
  },
  {
   "cell_type": "code",
   "execution_count": null,
   "metadata": {},
   "outputs": [],
   "source": [
    "(x_train,y_train),(x_test,y_test) = mnist.load_data()\n",
    "x_train = x_train.reshape(-1,784).astype('float32') / 255.0\n",
    "x_test = x_test.reshape(-1,784).astype('float32') / 255.0\n"
   ]
  },
  {
   "cell_type": "code",
   "execution_count": null,
   "metadata": {},
   "outputs": [],
   "source": [
    "y_train = vectorize(y_train)\n",
    "y_test = vectorize(y_test)"
   ]
  },
  {
   "cell_type": "code",
   "execution_count": 120,
   "metadata": {},
   "outputs": [],
   "source": [
    "Xa,ya = make_moons(n_samples=1000,noise=0.1)"
   ]
  },
  {
   "cell_type": "code",
   "execution_count": 121,
   "metadata": {},
   "outputs": [
    {
     "data": {
      "text/plain": [
       "<matplotlib.collections.PathCollection at 0x16c226940>"
      ]
     },
     "execution_count": 121,
     "metadata": {},
     "output_type": "execute_result"
    },
    {
     "data": {
      "image/png": "[encoded data removed]",
      "text/plain": [
       "<Figure size 432x288 with 1 Axes>"
      ]
     },
     "metadata": {
      "needs_background": "light"
     },
     "output_type": "display_data"
    }
   ],
   "source": [
    "plt.scatter(Xa[:,0],Xa[:,1])"
   ]
  },
  {
   "cell_type": "code",
   "execution_count": 122,
   "metadata": {},
   "outputs": [],
   "source": [
    "X_train, X_test, y_train, y_test = train_test_split(Xa, ya, test_size=0.33, random_state=42)"
   ]
  },
  {
   "cell_type": "code",
   "execution_count": 123,
   "metadata": {},
   "outputs": [],
   "source": [
    "y_train = y_train.reshape(-1,1)\n",
    "y_test = y_test.reshape(-1,1)"
   ]
  },
  {
   "cell_type": "code",
   "execution_count": 124,
   "metadata": {},
   "outputs": [
    {
     "data": {
      "text/plain": [
       "(670, 1)"
      ]
     },
     "execution_count": 124,
     "metadata": {},
     "output_type": "execute_result"
    }
   ],
   "source": [
    "y_train.shape"
   ]
  },
  {
   "cell_type": "code",
   "execution_count": 134,
   "metadata": {},
   "outputs": [],
   "source": [
    "mdl = model.model([\n",
    "    layers.dense(256,activation='sig',input_shape=2),\n",
    "    layers.dense(64,activation='sig'),\n",
    "    layers.dense(1,activation='sig')\n",
    "])"
   ]
  },
  {
   "cell_type": "code",
   "execution_count": 135,
   "metadata": {},
   "outputs": [
    {
     "name": "stdout",
     "output_type": "stream",
     "text": [
      "Epoch : 0 , loss : 0.49691951501004344\n",
      "Epoch : 1 , loss : 0.4969142331664332\n",
      "Epoch : 2 , loss : 0.49690835612139217\n",
      "Epoch : 3 , loss : 0.496901780274667\n",
      "Epoch : 4 , loss : 0.49689437702999345\n",
      "Epoch : 5 , loss : 0.4968859849030248\n",
      "Epoch : 6 , loss : 0.49687639848076703\n",
      "Epoch : 7 , loss : 0.49686535268123916\n",
      "Epoch : 8 , loss : 0.49685249983244956\n",
      "Epoch : 9 , loss : 0.49683737548941737\n",
      "Epoch : 10 , loss : 0.4968193460578849\n",
      "Epoch : 11 , loss : 0.49679752601853827\n",
      "Epoch : 12 , loss : 0.4967706423434369\n",
      "Epoch : 13 , loss : 0.49673680293284184\n",
      "Epoch : 14 , loss : 0.4966930810443141\n",
      "Epoch : 15 , loss : 0.4966347236606005\n",
      "Epoch : 16 , loss : 0.49655352888999715\n",
      "Epoch : 17 , loss : 0.4964341989056841\n",
      "Epoch : 18 , loss : 0.49624509871989103\n",
      "Epoch : 19 , loss : 0.4959107010315376\n",
      "Epoch : 20 , loss : 0.49520761197101476\n",
      "Epoch : 21 , loss : 0.49319275815041796\n",
      "Epoch : 22 , loss : 0.4817142150596897\n",
      "Epoch : 23 , loss : 0.18385665178542107\n",
      "Epoch : 24 , loss : 0.5028959413460198\n",
      "Epoch : 25 , loss : 0.5028915915223109\n",
      "Epoch : 26 , loss : 0.5028868214456842\n",
      "Epoch : 27 , loss : 0.5028815704685474\n",
      "Epoch : 28 , loss : 0.5028757661265896\n",
      "Epoch : 29 , loss : 0.502869321188121\n",
      "Epoch : 30 , loss : 0.5028621297888359\n",
      "Epoch : 31 , loss : 0.502854062307599\n",
      "Epoch : 32 , loss : 0.5028449584837092\n",
      "Epoch : 33 , loss : 0.5028346180382582\n",
      "Epoch : 34 , loss : 0.5028227876899812\n",
      "Epoch : 35 , loss : 0.5028091428600149\n",
      "Epoch : 36 , loss : 0.5027932613812083\n",
      "Epoch : 37 , loss : 0.5027745848741902\n",
      "Epoch : 38 , loss : 0.5027523605692455\n",
      "Epoch : 39 , loss : 0.5027255511422325\n",
      "Epoch : 40 , loss : 0.5026926903224311\n",
      "Epoch : 41 , loss : 0.5026516426715417\n",
      "Epoch : 42 , loss : 0.5025991855848538\n",
      "Epoch : 43 , loss : 0.5025302418658015\n",
      "Epoch : 44 , loss : 0.502436375779005\n",
      "Epoch : 45 , loss : 0.5023025967161745\n",
      "Epoch : 46 , loss : 0.5020998241532085\n",
      "Epoch : 47 , loss : 0.5017645091256515\n",
      "Epoch : 48 , loss : 0.5011318976657898\n",
      "Epoch : 49 , loss : 0.4996449011086979\n",
      "Epoch : 50 , loss : 0.4943017806894194\n",
      "Epoch : 51 , loss : 0.44661534630247285\n",
      "Epoch : 52 , loss : 0.24005816162043464\n",
      "Epoch : 53 , loss : 0.19882405889032712\n",
      "Epoch : 54 , loss : 0.15910877367189044\n",
      "Epoch : 55 , loss : 0.12555572614163799\n",
      "Epoch : 56 , loss : 0.09857348596045355\n",
      "Epoch : 57 , loss : 0.06947313463586206\n",
      "Epoch : 58 , loss : 0.06453223777112152\n",
      "Epoch : 59 , loss : 0.46518246304250704\n",
      "Epoch : 60 , loss : 0.0849351753124428\n",
      "Epoch : 61 , loss : 0.07405827879574352\n",
      "Epoch : 62 , loss : 0.2201630665109538\n",
      "Epoch : 63 , loss : 0.49690914748444853\n",
      "Epoch : 64 , loss : 0.49690495365786075\n",
      "Epoch : 65 , loss : 0.4969004232215834\n",
      "Epoch : 66 , loss : 0.49689551446063507\n",
      "Epoch : 67 , loss : 0.49689017851918676\n",
      "Epoch : 68 , loss : 0.496884357811872\n",
      "Epoch : 69 , loss : 0.49687798399290095\n",
      "Epoch : 70 , loss : 0.49687097533290325\n",
      "Epoch : 71 , loss : 0.49686323329244186\n",
      "Epoch : 72 , loss : 0.4968546379908734\n",
      "Epoch : 73 , loss : 0.49684504213323\n",
      "Epoch : 74 , loss : 0.4968342627488715\n",
      "Epoch : 75 , loss : 0.49682206976775956\n",
      "Epoch : 76 , loss : 0.4968081699332936\n",
      "Epoch : 77 , loss : 0.49679218368142136\n",
      "Epoch : 78 , loss : 0.4967736111391042\n",
      "Epoch : 79 , loss : 0.49675178080255894\n",
      "Epoch : 80 , loss : 0.4967257697299218\n",
      "Epoch : 81 , loss : 0.4966942750922568\n",
      "Epoch : 82 , loss : 0.49665539895459376\n",
      "Epoch : 83 , loss : 0.4966062700929186\n",
      "Epoch : 84 , loss : 0.49654234030143174\n",
      "Epoch : 85 , loss : 0.4964559798422781\n",
      "Epoch : 86 , loss : 0.4963334158658286\n",
      "Epoch : 87 , loss : 0.49614725303645657\n",
      "Epoch : 88 , loss : 0.49583516568723096\n",
      "Epoch : 89 , loss : 0.4952242876873379\n",
      "Epoch : 90 , loss : 0.49365319103625954\n",
      "Epoch : 91 , loss : 0.486453755192761\n",
      "Epoch : 92 , loss : 0.35923429686717717\n",
      "Epoch : 93 , loss : 0.1690635580634468\n",
      "Epoch : 94 , loss : 0.13298584938718327\n",
      "Epoch : 95 , loss : 0.11062567633212846\n",
      "Epoch : 96 , loss : 0.09666199957935553\n",
      "Epoch : 97 , loss : 0.08547235773787623\n",
      "Epoch : 98 , loss : 0.07603630321453324\n",
      "Epoch : 99 , loss : 0.0653701909852804\n"
     ]
    }
   ],
   "source": [
    "loss = mdl.fit(X_train,y_train,epochs=100)"
   ]
  },
  {
   "cell_type": "code",
   "execution_count": 136,
   "metadata": {},
   "outputs": [
    {
     "data": {
      "text/plain": [
       "[<matplotlib.lines.Line2D at 0x29689d310>]"
      ]
     },
     "execution_count": 136,
     "metadata": {},
     "output_type": "execute_result"
    },
    {
     "data": {
      "image/png": "[encoded data removed]",
      "text/plain": [
       "<Figure size 432x288 with 1 Axes>"
      ]
     },
     "metadata": {
      "needs_background": "light"
     },
     "output_type": "display_data"
    }
   ],
   "source": [
    "plt.plot(loss)"
   ]
  },
  {
   "cell_type": "code",
   "execution_count": 137,
   "metadata": {},
   "outputs": [
    {
     "data": {
      "text/plain": [
       "0.9303030303030303"
      ]
     },
     "execution_count": 137,
     "metadata": {},
     "output_type": "execute_result"
    }
   ],
   "source": [
    "mdl.score(X_test,y_test)"
   ]
  },
  {
   "cell_type": "code",
   "execution_count": null,
   "metadata": {},
   "outputs": [],
   "source": [
    "x = x_train\n",
    "a1 = mdl.lst[0].process(x)\n",
    "a2 = mdl.lst[1].process(a1)\n",
    "a3 = mdl.lst[2].process(a2)"
   ]
  },
  {
   "cell_type": "code",
   "execution_count": null,
   "metadata": {},
   "outputs": [],
   "source": [
    "a3_ = np.dot(a2,mdl.lst[2].W.T) + mdl.lst[2].b"
   ]
  },
  {
   "cell_type": "code",
   "execution_count": null,
   "metadata": {},
   "outputs": [],
   "source": [
    "a3_ = np.exp(a3_) / np.sum(np.exp(a3_),axis=1).reshape(-1,1)"
   ]
  },
  {
   "cell_type": "code",
   "execution_count": null,
   "metadata": {},
   "outputs": [],
   "source": [
    "np.sum(a3_[0])"
   ]
  },
  {
   "cell_type": "code",
   "execution_count": null,
   "metadata": {},
   "outputs": [],
   "source": [
    "a3_"
   ]
  },
  {
   "cell_type": "code",
   "execution_count": 29,
   "metadata": {},
   "outputs": [],
   "source": [
    "def make_grid(X,model):\n",
    "    xmn, xmx = X[:, 0].min() - 1, X[:, 0].max() + 1\n",
    "    ymn, ymx = X[:, 1].min() - 1, X[:, 1].max() + 1\n",
    "    xx,yy = np.meshgrid(np.arange(xmn,xmx,0.1),np.arange(ymn,ymx,0.1))\n",
    "    XX_grid = np.c_[xx.ravel(),yy.ravel()]\n",
    "    grid_preds = model.predict(XX_grid)\n",
    "    grid_preds = grid_preds.reshape(xx.shape)\n",
    "    return xx,yy,grid_preds\n"
   ]
  },
  {
   "cell_type": "code",
   "execution_count": 138,
   "metadata": {},
   "outputs": [],
   "source": [
    "xx,yy,grid_preds = make_grid(Xa,mdl)"
   ]
  },
  {
   "cell_type": "code",
   "execution_count": 139,
   "metadata": {},
   "outputs": [
    {
     "data": {
      "text/plain": [
       "<matplotlib.collections.PathCollection at 0x296874640>"
      ]
     },
     "execution_count": 139,
     "metadata": {},
     "output_type": "execute_result"
    },
    {
     "data": {
      "image/png": "[encoded data removed]",
      "text/plain": [
       "<Figure size 432x288 with 1 Axes>"
      ]
     },
     "metadata": {
      "needs_background": "light"
     },
     "output_type": "display_data"
    }
   ],
   "source": [
    "plt.contourf(xx,yy,grid_preds)\n",
    "plt.scatter(X_train[:,0],X_train[:,1],c=y_train)"
   ]
  },
  {
   "cell_type": "code",
   "execution_count": null,
   "metadata": {},
   "outputs": [],
   "source": [
    "(mdl.lst[1].A * np.mean(mdl.lst[1].W,axis=1).reshape(1,-1)).shape"
   ]
  },
  {
   "cell_type": "code",
   "execution_count": null,
   "metadata": {},
   "outputs": [],
   "source": [
    "np.mean(mdl.lst[1].W,axis=1).reshape(1,-1).shape"
   ]
  },
  {
   "cell_type": "code",
   "execution_count": null,
   "metadata": {},
   "outputs": [],
   "source": []
  }
 ],
 "metadata": {
  "interpreter": {
   "hash": "b2c55742aad1baa15094dc4b609e6470933883a8074034029ff62f5d461ab92c"
  },
  "kernelspec": {
   "display_name": "Python 3 (ipykernel)",
   "language": "python",
   "name": "python3"
  },
  "language_info": {
   "codemirror_mode": {
    "name": "ipython",
    "version": 3
   },
   "file_extension": ".py",
   "mimetype": "text/x-python",
   "name": "python",
   "nbconvert_exporter": "python",
   "pygments_lexer": "ipython3",
   "version": "3.9.5"
  }
 },
 "nbformat": 4,
 "nbformat_minor": 4
}
